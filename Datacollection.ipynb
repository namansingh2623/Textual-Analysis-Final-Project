{
 "cells": [
  {
   "cell_type": "code",
   "execution_count": null,
   "metadata": {},
   "outputs": [],
   "source": []
  },
  {
   "cell_type": "code",
   "execution_count": 1,
   "metadata": {},
   "outputs": [
    {
     "data": {
      "text/html": [
       "<div>\n",
       "<style scoped>\n",
       "    .dataframe tbody tr th:only-of-type {\n",
       "        vertical-align: middle;\n",
       "    }\n",
       "\n",
       "    .dataframe tbody tr th {\n",
       "        vertical-align: top;\n",
       "    }\n",
       "\n",
       "    .dataframe thead th {\n",
       "        text-align: right;\n",
       "    }\n",
       "</style>\n",
       "<table border=\"1\" class=\"dataframe\">\n",
       "  <thead>\n",
       "    <tr style=\"text-align: right;\">\n",
       "      <th></th>\n",
       "      <th>text</th>\n",
       "    </tr>\n",
       "  </thead>\n",
       "  <tbody>\n",
       "    <tr>\n",
       "      <th>0</th>\n",
       "      <td>ITEM 1A.\\tRISK FACTORS</td>\n",
       "    </tr>\n",
       "    <tr>\n",
       "      <th>1</th>\n",
       "      <td>You should carefully consider the risks descri...</td>\n",
       "    </tr>\n",
       "    <tr>\n",
       "      <th>2</th>\n",
       "      <td>Risks Related to Our Ability to Grow Our Business</td>\n",
       "    </tr>\n",
       "    <tr>\n",
       "      <th>3</th>\n",
       "      <td>We may be impacted by macroeconomic conditions...</td>\n",
       "    </tr>\n",
       "    <tr>\n",
       "      <th>4</th>\n",
       "      <td>Since the first quarter of 2020, there has bee...</td>\n",
       "    </tr>\n",
       "  </tbody>\n",
       "</table>\n",
       "</div>"
      ],
      "text/plain": [
       "                                                text\n",
       "0                             ITEM 1A.\\tRISK FACTORS\n",
       "1  You should carefully consider the risks descri...\n",
       "2  Risks Related to Our Ability to Grow Our Business\n",
       "3  We may be impacted by macroeconomic conditions...\n",
       "4  Since the first quarter of 2020, there has bee..."
      ]
     },
     "execution_count": 1,
     "metadata": {},
     "output_type": "execute_result"
    }
   ],
   "source": [
    "# Install required libraries (run in terminal or command line)\n",
    "# pip install pyarrow pandas numpy matplotlib seaborn nltk\n",
    "\n",
    "import pandas as pd\n",
    "from pyarrow import parquet\n",
    "\n",
    "# Load the parquet file\n",
    "A = pd.read_parquet(\"2022.parquet\")\n",
    "\n",
    "# Filter Tesla's 10-K filing data\n",
    "Tesla = A[A['cik'] == \"1318605\"]\n",
    "\n",
    "# Split the 'item_1A' text into paragraphs\n",
    "Tesla_risk = pd.DataFrame(Tesla['item_1A'].iloc[0].split(\"\\n\"), columns=[\"text\"])\n",
    "\n",
    "Tesla_risk.head()\n"
   ]
  },
  {
   "cell_type": "code",
   "execution_count": 2,
   "metadata": {},
   "outputs": [
    {
     "name": "stdout",
     "output_type": "stream",
     "text": [
      "           00       000  0001   01  015  016  018   02  021       025  ...  \\\n",
      "0    0.000000  0.002259   0.0  0.0  0.0  0.0  0.0  0.0  0.0  0.000000  ...   \n",
      "1    0.000000  0.000000   0.0  0.0  0.0  0.0  0.0  0.0  0.0  0.005602  ...   \n",
      "2    0.000000  0.000000   0.0  0.0  0.0  0.0  0.0  0.0  0.0  0.000000  ...   \n",
      "3    0.000000  0.000000   0.0  0.0  0.0  0.0  0.0  0.0  0.0  0.000000  ...   \n",
      "4    0.000000  0.000000   0.0  0.0  0.0  0.0  0.0  0.0  0.0  0.000000  ...   \n",
      "..        ...       ...   ...  ...  ...  ...  ...  ...  ...       ...  ...   \n",
      "489  0.000000  0.000000   0.0  0.0  0.0  0.0  0.0  0.0  0.0  0.000000  ...   \n",
      "490  0.000000  0.000000   0.0  0.0  0.0  0.0  0.0  0.0  0.0  0.000000  ...   \n",
      "491  0.000000  0.006343   0.0  0.0  0.0  0.0  0.0  0.0  0.0  0.000000  ...   \n",
      "492  0.000000  0.000000   0.0  0.0  0.0  0.0  0.0  0.0  0.0  0.000000  ...   \n",
      "493  0.003078  0.002059   0.0  0.0  0.0  0.0  0.0  0.0  0.0  0.000000  ...   \n",
      "\n",
      "     zones    zoning  zscaler  zte  zuckerberg  zuckerman  zynga  çecek  \\\n",
      "0      0.0  0.000000      0.0  0.0         0.0        0.0    0.0    0.0   \n",
      "1      0.0  0.002816      0.0  0.0         0.0        0.0    0.0    0.0   \n",
      "2      0.0  0.000000      0.0  0.0         0.0        0.0    0.0    0.0   \n",
      "3      0.0  0.000000      0.0  0.0         0.0        0.0    0.0    0.0   \n",
      "4      0.0  0.000000      0.0  0.0         0.0        0.0    0.0    0.0   \n",
      "..     ...       ...      ...  ...         ...        ...    ...    ...   \n",
      "489    0.0  0.000000      0.0  0.0         0.0        0.0    0.0    0.0   \n",
      "490    0.0  0.000000      0.0  0.0         0.0        0.0    0.0    0.0   \n",
      "491    0.0  0.000000      0.0  0.0         0.0        0.0    0.0    0.0   \n",
      "492    0.0  0.000000      0.0  0.0         0.0        0.0    0.0    0.0   \n",
      "493    0.0  0.000000      0.0  0.0         0.0        0.0    0.0    0.0   \n",
      "\n",
      "     éléonore  ørsted  \n",
      "0         0.0     0.0  \n",
      "1         0.0     0.0  \n",
      "2         0.0     0.0  \n",
      "3         0.0     0.0  \n",
      "4         0.0     0.0  \n",
      "..        ...     ...  \n",
      "489       0.0     0.0  \n",
      "490       0.0     0.0  \n",
      "491       0.0     0.0  \n",
      "492       0.0     0.0  \n",
      "493       0.0     0.0  \n",
      "\n",
      "[494 rows x 21093 columns]\n"
     ]
    }
   ],
   "source": [
    "from sklearn.feature_extraction.text import TfidfVectorizer\n",
    "\n",
    "# Ensure 'item_1A' is preprocessed (fill NaN and clean text)\n",
    "A['item_1A'] = A['item_1A'].fillna(\"\")  # Replace NaN with empty strings\n",
    "\n",
    "# Calculate TF-IDF\n",
    "vectorizer = TfidfVectorizer()\n",
    "tfidf_matrix = vectorizer.fit_transform(A['item_1A'])\n",
    "\n",
    "# Convert to DataFrame\n",
    "tfidf_df = pd.DataFrame(tfidf_matrix.toarray(), columns=vectorizer.get_feature_names_out())\n",
    "print(tfidf_df)\n"
   ]
  },
  {
   "cell_type": "code",
   "execution_count": null,
   "metadata": {},
   "outputs": [],
   "source": [
    "# Identify rows where 'item_1A' is missing or empty\n",
    "mpty_values = A[A['item_1A'].isna() | (A['item_1A'] == \"\")]\n",
    "mpty_values.head()\n",
    "from nltk.tokenize import word_tokenize\n",
    "from nltk.corpus import stopwords\n",
    "import string\n",
    "\n",
    "# Tokenize 'item_1A' for all companies\n",
    "A['item_1A'] = A['item_1A'].fillna(\"\")  # Replace NaN with empty strings\n",
    "A['words'] = A['item_1A'].apply(word_tokenize)\n",
    "\n",
    "# Convert into long format (one word per row)\n",
    "stock_tokens = A.explode('words').rename(columns={'words': 'word'}).filter(['cik', 'word', 'company', 'date'])\n",
    "stock_tokens.to_csv(\"stock_tokens.csv\", index=False)\n"
   ]
  },
  {
   "cell_type": "markdown",
   "metadata": {},
   "source": []
  }
 ],
 "metadata": {
  "kernelspec": {
   "display_name": "stopic",
   "language": "python",
   "name": "python3"
  },
  "language_info": {
   "codemirror_mode": {
    "name": "ipython",
    "version": 3
   },
   "file_extension": ".py",
   "mimetype": "text/x-python",
   "name": "python",
   "nbconvert_exporter": "python",
   "pygments_lexer": "ipython3",
   "version": "3.12.7"
  }
 },
 "nbformat": 4,
 "nbformat_minor": 2
}
